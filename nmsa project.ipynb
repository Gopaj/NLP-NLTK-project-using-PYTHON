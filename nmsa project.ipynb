{
 "cells": [
  {
   "cell_type": "markdown",
   "metadata": {},
   "source": [
    "### Student Number: XXXXXX {-}"
   ]
  },
  {
   "cell_type": "code",
   "execution_count": 1,
   "metadata": {},
   "outputs": [],
   "source": [
    "import pandas as pd\n",
    "import numpy as np\n",
    "import nltk\n",
    "from nltk.tokenize import word_tokenize"
   ]
  },
  {
   "cell_type": "code",
   "execution_count": 2,
   "metadata": {},
   "outputs": [],
   "source": [
    "data = pd.read_csv(\"trumptweets_sp500.csv\")\n",
    "tweets = data['content'].values.tolist()"
   ]
  },
  {
   "cell_type": "markdown",
   "metadata": {},
   "source": [
    "## Problem 1 {-}"
   ]
  },
  {
   "cell_type": "markdown",
   "metadata": {},
   "source": [
    "The combine() function is made, using word_tokenize to divide into list of substring."
   ]
  },
  {
   "cell_type": "code",
   "execution_count": 3,
   "metadata": {},
   "outputs": [],
   "source": [
    "def combine(data):\n",
    "    return word_tokenize(\" \".join(tweets).lower())"
   ]
  },
  {
   "cell_type": "code",
   "execution_count": 4,
   "metadata": {},
   "outputs": [
    {
     "name": "stdout",
     "output_type": "stream",
     "text": [
      "['...', 'a', 'great', 'person', 'inspires', 'others', 'to', 'see', 'for', 'themselves', '.', '–', 'harvey', 'mackay', 'a', 'mediocre', 'person', 'tells', '.', 'a']\n"
     ]
    }
   ],
   "source": [
    "trump_tweets = combine(data)\n",
    "print(trump_tweets[:20])"
   ]
  },
  {
   "cell_type": "markdown",
   "metadata": {},
   "source": [
    "Usually some cleaning of the text would be done, but it is not asked for in the problem description. This would for example be to remove string containing punctuation, numeric strings and/or special characters. Perhaps it will be needed later, but is on purpose not done yet. "
   ]
  },
  {
   "cell_type": "markdown",
   "metadata": {},
   "source": [
    "## Problem 2 {-}"
   ]
  },
  {
   "cell_type": "markdown",
   "metadata": {},
   "source": [
    "### 2.1 {-}"
   ]
  },
  {
   "cell_type": "code",
   "execution_count": 5,
   "metadata": {},
   "outputs": [
    {
     "name": "stdout",
     "output_type": "stream",
     "text": [
      "437592\n"
     ]
    }
   ],
   "source": [
    "total_words = len(trump_tweets)\n",
    "print(total_words)"
   ]
  },
  {
   "cell_type": "markdown",
   "metadata": {},
   "source": [
    "len() Shows number of words, by seeing length of list (number of strings). Number of words is 437592."
   ]
  },
  {
   "cell_type": "code",
   "execution_count": 6,
   "metadata": {},
   "outputs": [
    {
     "name": "stdout",
     "output_type": "stream",
     "text": [
      "32170\n"
     ]
    }
   ],
   "source": [
    "trump_vocabulary = len(set(trump_tweets))\n",
    "print(trump_vocabulary)"
   ]
  },
  {
   "cell_type": "markdown",
   "metadata": {},
   "source": [
    "len(set()) shows the number unique words in trumps tweets. The size of the vocabulary is 32170.\n",
    "\n",
    "The lexical diversity is:"
   ]
  },
  {
   "cell_type": "code",
   "execution_count": 7,
   "metadata": {},
   "outputs": [
    {
     "data": {
      "text/plain": [
       "13.602486788933788"
      ]
     },
     "execution_count": 7,
     "metadata": {},
     "output_type": "execute_result"
    }
   ],
   "source": [
    "def lexical_diversity(text):\n",
    "    return len(text) / len(set(text))\n",
    "\n",
    "lexical_diversity(trump_tweets)"
   ]
  },
  {
   "cell_type": "markdown",
   "metadata": {},
   "source": [
    "This means that on average, Trump uses the same words 13,6 times."
   ]
  },
  {
   "cell_type": "markdown",
   "metadata": {},
   "source": [
    "### 2.2 {-}\n",
    "A function is made to calculate the lexical diversity in the brown corpus."
   ]
  },
  {
   "cell_type": "code",
   "execution_count": 8,
   "metadata": {},
   "outputs": [],
   "source": [
    "import nltk\n",
    "from nltk.corpus import brown"
   ]
  },
  {
   "cell_type": "code",
   "execution_count": 9,
   "metadata": {},
   "outputs": [],
   "source": [
    "def lexical_diversity(text):\n",
    "    return len(text) / len(set(text))"
   ]
  },
  {
   "cell_type": "code",
   "execution_count": 10,
   "metadata": {},
   "outputs": [
    {
     "data": {
      "text/plain": [
       "{'adventure': 7.814063556457065,\n",
       " 'belles_lettres': 9.396666847619565,\n",
       " 'editorial': 6.22891809908999,\n",
       " 'fiction': 7.362717695119329,\n",
       " 'government': 8.570712626818237,\n",
       " 'hobbies': 6.899455383326351,\n",
       " 'humor': 4.324297388877816,\n",
       " 'learned': 10.788777507562726,\n",
       " 'lore': 7.60525408536165,\n",
       " 'mystery': 8.188054998567745,\n",
       " 'news': 6.98582742809504,\n",
       " 'religion': 6.182174799937235,\n",
       " 'reviews': 4.718757245536749,\n",
       " 'romance': 8.284666351159489,\n",
       " 'science_fiction': 4.475719146303742}"
      ]
     },
     "execution_count": 10,
     "metadata": {},
     "output_type": "execute_result"
    }
   ],
   "source": [
    "diversities = {}\n",
    "for genre in brown.categories():\n",
    "    diversities[genre] = lexical_diversity(brown.words(categories=genre))\n",
    "    \n",
    "diversities"
   ]
  },
  {
   "cell_type": "markdown",
   "metadata": {},
   "source": [
    "It shows that Trump uses the same words more frequently, than in any of the above brown corpus categories. \n",
    "Trump tweets are therefore LESS lexical diverse."
   ]
  },
  {
   "cell_type": "markdown",
   "metadata": {},
   "source": [
    "## Problem 3 {-}\n",
    "### 3.1 {-}\n",
    "The collocation of trump_tweets is made using BigramCollocationFinder."
   ]
  },
  {
   "cell_type": "code",
   "execution_count": 11,
   "metadata": {},
   "outputs": [],
   "source": [
    "from nltk.metrics import BigramAssocMeasures as bam\n",
    "from nltk.collocations import BigramCollocationFinder as bcf"
   ]
  },
  {
   "cell_type": "code",
   "execution_count": 12,
   "metadata": {},
   "outputs": [
    {
     "data": {
      "text/plain": [
       "[('``', '@'),\n",
       " ('@', 'realdonaldtrump'),\n",
       " ('http', ':'),\n",
       " (\"''\", '``'),\n",
       " (':', '@'),\n",
       " ('thank', 'you'),\n",
       " ('’', 's'),\n",
       " ('will', 'be'),\n",
       " ('https', ':'),\n",
       " ('!', '``'),\n",
       " ('donald', 'trump'),\n",
       " ('#', 'trump2016'),\n",
       " ('do', \"n't\"),\n",
       " ('ca', \"n't\"),\n",
       " ('.', \"''\"),\n",
       " ('!', \"''\"),\n",
       " ('for', 'president'),\n",
       " ('make', 'america'),\n",
       " ('’', 't'),\n",
       " ('#', 'makeamericagreatagain')]"
      ]
     },
     "execution_count": 12,
     "metadata": {},
     "output_type": "execute_result"
    }
   ],
   "source": [
    "collocation = bcf.from_words(trump_tweets)\n",
    "collocation.nbest(bam.likelihood_ratio, 20)"
   ]
  },
  {
   "cell_type": "markdown",
   "metadata": {},
   "source": [
    "The results indicates, that cleaning of the data is required for better output. The function .isalnum() is used for this."
   ]
  },
  {
   "cell_type": "code",
   "execution_count": 13,
   "metadata": {},
   "outputs": [],
   "source": [
    "cleaned_tweets = []\n",
    "\n",
    "for words in tweets:\n",
    "    words = words.split()\n",
    "    onlywords = [words for words in words if words.isalnum()]\n",
    "    for i in onlywords:\n",
    "        if i != \"\":\n",
    "            cleaned_tweets.append(i)"
   ]
  },
  {
   "cell_type": "code",
   "execution_count": 14,
   "metadata": {},
   "outputs": [
    {
     "data": {
      "text/plain": [
       "[('will', 'be'),\n",
       " ('Thank', 'you'),\n",
       " ('MAKE', 'AMERICA'),\n",
       " ('Donald', 'Trump'),\n",
       " ('I', 'am'),\n",
       " ('AMERICA', 'GREAT'),\n",
       " ('of', 'the'),\n",
       " ('run', 'for'),\n",
       " ('a', 'great'),\n",
       " ('is', 'a')]"
      ]
     },
     "execution_count": 14,
     "metadata": {},
     "output_type": "execute_result"
    }
   ],
   "source": [
    "collocation = bcf.from_words(cleaned_tweets)\n",
    "collocation.nbest(bam.likelihood_ratio, 10)"
   ]
  },
  {
   "cell_type": "markdown",
   "metadata": {},
   "source": [
    "It gives a much better output, because it has removed special characters like @ and #, and urls (http). \n",
    "Each string that contained a character that was not a letter was removed with the .isalnum() function."
   ]
  },
  {
   "cell_type": "markdown",
   "metadata": {},
   "source": [
    "### 3.2 {-}"
   ]
  },
  {
   "cell_type": "code",
   "execution_count": 15,
   "metadata": {},
   "outputs": [
    {
     "data": {
      "text/plain": [
       "FreqDist({('of', 'the'): 978, ('will', 'be'): 746, ('in', 'the'): 731, ('is', 'a'): 633, ('Thank', 'you'): 629, ('for', 'the'): 533, ('to', 'the'): 458, ('a', 'great'): 436, ('to', 'be'): 432, ('on', 'the'): 403, ...})"
      ]
     },
     "execution_count": 15,
     "metadata": {},
     "output_type": "execute_result"
    }
   ],
   "source": [
    "bigram_list = list(nltk.bigrams(cleaned_tweets))\n",
    "nltk.FreqDist(bigram_list)"
   ]
  },
  {
   "cell_type": "markdown",
   "metadata": {},
   "source": [
    "Some of the collocations and bigrams are the same, which makes sense. The bigram lists the most frequent occuring of two connected words, whereas the collocation gives a score that implies how much meaning is givin by two connected words. So the bigram 'to' 'the' may occur many times (top10 bigrams), but it is not in the collocations top 10, because it does not imply enough meaning, like perhaps 'AMERICA' 'GREAT', does. "
   ]
  },
  {
   "cell_type": "markdown",
   "metadata": {},
   "source": [
    "### 3.3 {-}\n",
    "Stemming is done using the PortStemmer function from nltk. "
   ]
  },
  {
   "cell_type": "code",
   "execution_count": 16,
   "metadata": {},
   "outputs": [
    {
     "data": {
      "text/plain": [
       "11744"
      ]
     },
     "execution_count": 16,
     "metadata": {},
     "output_type": "execute_result"
    }
   ],
   "source": [
    "portstemmer = nltk.PorterStemmer()\n",
    "stemmedlist = [portstemmer.stem(i) for i in cleaned_tweets]\n",
    "len(set(list(stemmedlist)))"
   ]
  },
  {
   "cell_type": "markdown",
   "metadata": {},
   "source": [
    "The stemmed vocabulary is 11744 words long. "
   ]
  },
  {
   "cell_type": "code",
   "execution_count": 17,
   "metadata": {},
   "outputs": [
    {
     "data": {
      "text/plain": [
       "20426"
      ]
     },
     "execution_count": 17,
     "metadata": {},
     "output_type": "execute_result"
    }
   ],
   "source": [
    "trump_vocabulary - len(set(list(stemmedlist)))"
   ]
  },
  {
   "cell_type": "markdown",
   "metadata": {},
   "source": [
    "The porter stemmer attempts to reduce each word in the input text to its' root. So if there for example are am, are, is, they can all be stemmed to the root. That root could for example be am, and 3 words are now reduced to 1 in the vocabulary. \n",
    "\n",
    "Stemming the text in this case, decreases the vocabulary from 32170 to 11744. So a drop of 20426. "
   ]
  },
  {
   "cell_type": "markdown",
   "metadata": {},
   "source": [
    "## Problem 4 {-}\n",
    "### 4.1 {-}"
   ]
  },
  {
   "cell_type": "markdown",
   "metadata": {},
   "source": [
    "A function is made, which takes a generic text input and then outputs a frequency distribution of the tags. "
   ]
  },
  {
   "cell_type": "code",
   "execution_count": 18,
   "metadata": {},
   "outputs": [],
   "source": [
    "from nltk.probability import FreqDist"
   ]
  },
  {
   "cell_type": "code",
   "execution_count": 19,
   "metadata": {},
   "outputs": [],
   "source": [
    "def freq(text):\n",
    "    tags = nltk.FreqDist(tag for(word, tag) in text)\n",
    "    return tags"
   ]
  },
  {
   "cell_type": "markdown",
   "metadata": {},
   "source": [
    "The function is tested on the brown news corpus."
   ]
  },
  {
   "cell_type": "code",
   "execution_count": 20,
   "metadata": {},
   "outputs": [
    {
     "data": {
      "text/plain": [
       "FreqDist({'NOUN': 30654, 'VERB': 14399, 'ADP': 12355, '.': 11928, 'DET': 11389, 'ADJ': 6706, 'ADV': 3349, 'CONJ': 2717, 'PRON': 2535, 'PRT': 2264, ...})"
      ]
     },
     "execution_count": 20,
     "metadata": {},
     "output_type": "execute_result"
    }
   ],
   "source": [
    "freq(brown.tagged_words(categories='news', tagset='universal'))"
   ]
  },
  {
   "cell_type": "markdown",
   "metadata": {},
   "source": [
    "### 4.2 {-}"
   ]
  },
  {
   "cell_type": "code",
   "execution_count": 21,
   "metadata": {},
   "outputs": [],
   "source": [
    "from nltk.tag import UnigramTagger\n",
    "from nltk.corpus import brown"
   ]
  },
  {
   "cell_type": "markdown",
   "metadata": {},
   "source": [
    "A training set is made from the news category of the brown corpus. The tagset universal is chosen."
   ]
  },
  {
   "cell_type": "code",
   "execution_count": 22,
   "metadata": {},
   "outputs": [],
   "source": [
    "train_words = brown.tagged_words(categories='news', tagset='universal')"
   ]
  },
  {
   "cell_type": "markdown",
   "metadata": {},
   "source": [
    "The training set is run through the UnigramTagger function, which finds the most likely tag for reach word."
   ]
  },
  {
   "cell_type": "code",
   "execution_count": 23,
   "metadata": {},
   "outputs": [],
   "source": [
    "uni_tag = UnigramTagger([train_words])"
   ]
  },
  {
   "cell_type": "markdown",
   "metadata": {},
   "source": [
    "A function is made, that plots the frequency distribution of tags. "
   ]
  },
  {
   "cell_type": "code",
   "execution_count": 24,
   "metadata": {},
   "outputs": [],
   "source": [
    "def displot(wordtag, words):\n",
    "    word_tags = wordtag.tag(words)\n",
    "    _, tags = zip(*word_tags)\n",
    "    return pd.Series(tags).value_counts(dropna = False).plot()"
   ]
  },
  {
   "cell_type": "code",
   "execution_count": 25,
   "metadata": {},
   "outputs": [
    {
     "data": {
      "text/plain": [
       "<AxesSubplot:>"
      ]
     },
     "execution_count": 25,
     "metadata": {},
     "output_type": "execute_result"
    },
    {
     "data": {
      "image/png": "[encoded data removed]",
      "text/plain": [
       "<Figure size 432x288 with 1 Axes>"
      ]
     },
     "metadata": {
      "needs_background": "light"
     },
     "output_type": "display_data"
    }
   ],
   "source": [
    "displot(uni_tag,trump_tweets)"
   ]
  },
  {
   "cell_type": "markdown",
   "metadata": {},
   "source": [
    "### 4.3 {-}\n",
    "One reason there are alot of nan or none, is because the data has not been cleaned. So many of the list entries are numbers, special characters and/or words that it cannot classify. \n",
    "\n",
    "Another reason can for example be because Trump has spelled a word wrong. Then the Unitagger is not able to classify the word, as it does not know it. "
   ]
  },
  {
   "cell_type": "code",
   "execution_count": 26,
   "metadata": {},
   "outputs": [
    {
     "data": {
      "text/plain": [
       "NOUN    30654\n",
       "dtype: int64"
      ]
     },
     "execution_count": 26,
     "metadata": {},
     "output_type": "execute_result"
    }
   ],
   "source": [
    "_, train_tags = zip(*train_words)\n",
    "pd.Series(train_tags).value_counts()[:1]"
   ]
  },
  {
   "cell_type": "markdown",
   "metadata": {},
   "source": [
    "The most common tag in news is NOUN. It is used as backoff below."
   ]
  },
  {
   "cell_type": "code",
   "execution_count": 27,
   "metadata": {},
   "outputs": [],
   "source": [
    "uni_tag_with_backoff = UnigramTagger([train_words],backoff = nltk.DefaultTagger('NOUN'))"
   ]
  },
  {
   "cell_type": "markdown",
   "metadata": {},
   "source": [
    "The plot function from 4.2 is used again."
   ]
  },
  {
   "cell_type": "code",
   "execution_count": 28,
   "metadata": {},
   "outputs": [
    {
     "data": {
      "text/plain": [
       "<AxesSubplot:>"
      ]
     },
     "execution_count": 28,
     "metadata": {},
     "output_type": "execute_result"
    },
    {
     "data": {
      "image/png": "[encoded data removed]",
      "text/plain": [
       "<Figure size 432x288 with 1 Axes>"
      ]
     },
     "metadata": {
      "needs_background": "light"
     },
     "output_type": "display_data"
    }
   ],
   "source": [
    "displot(uni_tag_with_backoff,trump_tweets)"
   ]
  },
  {
   "cell_type": "markdown",
   "metadata": {},
   "source": [
    "## Problem 5 {-}"
   ]
  },
  {
   "cell_type": "markdown",
   "metadata": {},
   "source": [
    "### 5.1 {-}\n",
    "The data is loaded into a dataframe, and a column with binary_indicator is added. The binary indicator shows 1 if the returns were positive, and 0 if the returns were negative."
   ]
  },
  {
   "cell_type": "code",
   "execution_count": 29,
   "metadata": {},
   "outputs": [],
   "source": [
    "df = pd.read_csv('trumptweets_sp500.csv')\n",
    "df['binary_indicator'] = np.where(df.SP500_daily_returns > 0, 1, 0)"
   ]
  },
  {
   "cell_type": "markdown",
   "metadata": {},
   "source": [
    "### 5.2 {-}"
   ]
  },
  {
   "cell_type": "code",
   "execution_count": 30,
   "metadata": {},
   "outputs": [],
   "source": [
    "import datetime"
   ]
  },
  {
   "cell_type": "markdown",
   "metadata": {},
   "source": [
    "Datatime and pandas is used to split the data into training, test and devtest sets, following instructions from the assignment. "
   ]
  },
  {
   "cell_type": "code",
   "execution_count": 31,
   "metadata": {},
   "outputs": [],
   "source": [
    "df['date'] = pd.to_datetime(df['date'])\n",
    "df = df.set_index(df['date'])"
   ]
  },
  {
   "cell_type": "code",
   "execution_count": 32,
   "metadata": {},
   "outputs": [],
   "source": [
    "traindates = df.loc[df.date < '2015-12-31']\n",
    "devtdates = df.loc[(df.date >= '2016-01-01') & (df.date < '2016-12-31')]\n",
    "testdates = df.loc[df.date >= '2017-01-01']"
   ]
  },
  {
   "cell_type": "markdown",
   "metadata": {},
   "source": [
    "Here only columns that contains relevant information are kept (content, returns and binary indicator)."
   ]
  },
  {
   "cell_type": "code",
   "execution_count": 33,
   "metadata": {},
   "outputs": [],
   "source": [
    "train_set = traindates.iloc[:,[2,6,7]]\n",
    "devt_set = devtdates.iloc[:,[2,6,7]]\n",
    "test_set = testdates.iloc[:,[2,6,7]]"
   ]
  },
  {
   "cell_type": "markdown",
   "metadata": {},
   "source": [
    "### 5.3 {-}"
   ]
  },
  {
   "cell_type": "markdown",
   "metadata": {},
   "source": [
    "The feature selector is tested on the trump_tweets dataset, which is the original not cleaned tweet data."
   ]
  },
  {
   "cell_type": "code",
   "execution_count": 34,
   "metadata": {},
   "outputs": [],
   "source": [
    "all_words = nltk.FreqDist(w.lower() for w in trump_tweets)\n",
    "word_features = list(all_words)[:100]\n",
    "\n",
    "def document_features (document, word_features):\n",
    "    document_words = set(document)\n",
    "    features = {}\n",
    "    for word in word_features :\n",
    "        features['contains({}) '.format(word)] = (word in document_words)\n",
    "    return features"
   ]
  },
  {
   "cell_type": "markdown",
   "metadata": {},
   "source": [
    "A function is made, to make it easier to tokenize the datasets, since this will be done many times. This is needed for using the data in the classifier and for making predictions. "
   ]
  },
  {
   "cell_type": "code",
   "execution_count": 35,
   "metadata": {},
   "outputs": [],
   "source": [
    "def token_data(df, word_featurs):\n",
    "    return df.apply(lambda i: (document_features(i.content, word_features), i.binary_indicator),1).values.tolist()"
   ]
  },
  {
   "cell_type": "markdown",
   "metadata": {},
   "source": [
    "The token_data function is applied to the datasets, using the respective dataset and the word_features as input."
   ]
  },
  {
   "cell_type": "code",
   "execution_count": 36,
   "metadata": {},
   "outputs": [],
   "source": [
    "train_tokens = token_data(train_set, word_features)\n",
    "devt_tokens = token_data(devt_set, word_features)\n",
    "test_tokens = token_data(test_set, word_features)"
   ]
  },
  {
   "cell_type": "markdown",
   "metadata": {},
   "source": [
    "The NaiveBayesClassifier is trained, using the training data. "
   ]
  },
  {
   "cell_type": "code",
   "execution_count": 37,
   "metadata": {},
   "outputs": [
    {
     "name": "stdout",
     "output_type": "stream",
     "text": [
      "Most Informative Features\n",
      "            contains(…)  = True                0 : 1      =      1.2 : 1.0\n",
      "            contains(?)  = True                1 : 0      =      1.2 : 1.0\n",
      "            contains(#)  = True                0 : 1      =      1.1 : 1.0\n",
      "            contains(()  = True                1 : 0      =      1.1 : 1.0\n",
      "            contains(s)  = False               0 : 1      =      1.1 : 1.0\n",
      "            contains(!)  = True                1 : 0      =      1.0 : 1.0\n",
      "            contains(!)  = False               0 : 1      =      1.0 : 1.0\n",
      "            contains(.)  = False               1 : 0      =      1.0 : 1.0\n",
      "            contains(@)  = False               0 : 1      =      1.0 : 1.0\n",
      "            contains())  = True                1 : 0      =      1.0 : 1.0\n"
     ]
    }
   ],
   "source": [
    "classifier = nltk.NaiveBayesClassifier.train(train_tokens)\n",
    "classifier.show_most_informative_features(10)"
   ]
  },
  {
   "cell_type": "markdown",
   "metadata": {},
   "source": [
    "The output of 10 most informative features show, why it can be necessary to clean data. All of the supposed most informative tokens are special characters. This also gives an indication, that there is not really much that can be predicted on the SP500 using the tweets, but it remains to be seen. "
   ]
  },
  {
   "cell_type": "markdown",
   "metadata": {},
   "source": [
    "### 5.4 {-}"
   ]
  },
  {
   "cell_type": "code",
   "execution_count": 38,
   "metadata": {},
   "outputs": [],
   "source": [
    "from nltk.metrics import ConfusionMatrix"
   ]
  },
  {
   "cell_type": "markdown",
   "metadata": {},
   "source": [
    "A prediction and y variable is made, to test how the classifer, which was trained on training data, performs on the development test data. "
   ]
  },
  {
   "cell_type": "code",
   "execution_count": 39,
   "metadata": {},
   "outputs": [],
   "source": [
    "bayes_preds = [classifier.classify(i) for i , _ in devt_tokens]\n",
    "y_devt = [(y) for _, y in devt_tokens]"
   ]
  },
  {
   "cell_type": "code",
   "execution_count": 40,
   "metadata": {},
   "outputs": [
    {
     "name": "stdout",
     "output_type": "stream",
     "text": [
      "0.526813880126183\n",
      "  |    0    1 |\n",
      "--+-----------+\n",
      "0 | <164> 227 |\n",
      "1 | 1123<1339>|\n",
      "--+-----------+\n",
      "(row = reference; col = test)\n",
      "\n"
     ]
    }
   ],
   "source": [
    "print(nltk.classify.accuracy(classifier, devt_tokens))\n",
    "print(ConfusionMatrix(bayes_preds ,y_devt))"
   ]
  },
  {
   "cell_type": "markdown",
   "metadata": {},
   "source": [
    "The confusion matrix shows, that the predictor has a tendency to predict 1, where it 1123 times predict 1, when it should have been 0. 1339 times  it correctly predicts 1. \n",
    "It predicts 0 correctly 164 times and wrong 227 times."
   ]
  },
  {
   "cell_type": "markdown",
   "metadata": {},
   "source": [
    "### 5.5 {-}"
   ]
  },
  {
   "cell_type": "markdown",
   "metadata": {},
   "source": [
    "The first model was made using uncleaned tweet data. An obvious way to try improving the model, would be to use cleaned data. A clean data set was made in 3.1, called cleaned_tweets, which will be called again. At the same time, stopwords will also be removed, as they are not expected to add predictive power, but excepted to add noise."
   ]
  },
  {
   "cell_type": "code",
   "execution_count": 41,
   "metadata": {},
   "outputs": [],
   "source": [
    "from nltk.corpus import stopwords"
   ]
  },
  {
   "cell_type": "code",
   "execution_count": 42,
   "metadata": {},
   "outputs": [],
   "source": [
    "all_stopwords = stopwords.words('english')\n",
    "no_stopwords = [word for word in cleaned_tweets if not word in all_stopwords]"
   ]
  },
  {
   "cell_type": "code",
   "execution_count": 43,
   "metadata": {},
   "outputs": [],
   "source": [
    "all_words = FreqDist(w.lower () for w in no_stopwords) \n",
    "word_features = list(all_words)[:100]"
   ]
  },
  {
   "cell_type": "code",
   "execution_count": 44,
   "metadata": {},
   "outputs": [],
   "source": [
    "imp_train = token_data(train_set, word_features)\n",
    "imp_devt = token_data(devt_set, word_features)\n",
    "imp_test = token_data(test_set, word_features)"
   ]
  },
  {
   "cell_type": "code",
   "execution_count": 45,
   "metadata": {},
   "outputs": [
    {
     "name": "stdout",
     "output_type": "stream",
     "text": [
      "Most Informative Features\n",
      "            contains(i)  = False               1 : 0      =      1.0 : 1.0\n",
      "            contains(a)  = False               1 : 0      =      1.0 : 1.0\n",
      "            contains(i)  = True                0 : 1      =      1.0 : 1.0\n",
      "            contains(a)  = True                0 : 1      =      1.0 : 1.0\n",
      "       contains(always)  = False               0 : 1      =      1.0 : 1.0\n",
      "      contains(amazing)  = False               0 : 1      =      1.0 : 1.0\n",
      "      contains(america)  = False               0 : 1      =      1.0 : 1.0\n",
      "     contains(american)  = False               0 : 1      =      1.0 : 1.0\n",
      "         contains(back)  = False               0 : 1      =      1.0 : 1.0\n",
      "          contains(bad)  = False               0 : 1      =      1.0 : 1.0\n"
     ]
    }
   ],
   "source": [
    "classifier_clean = nltk.NaiveBayesClassifier.train(imp_train)\n",
    "classifier_clean.show_most_informative_features(10)"
   ]
  },
  {
   "cell_type": "markdown",
   "metadata": {},
   "source": [
    "This shows that using cleansed data give informative features, that appears to make more sense. Instead of special characters, there are actual words. This does not guarentee a better model, and in might be that it is the same or worse. "
   ]
  },
  {
   "cell_type": "code",
   "execution_count": 46,
   "metadata": {},
   "outputs": [],
   "source": [
    "bayes_preds_imp = [classifier_clean.classify(i) for i , _ in imp_devt]\n",
    "y_devt_imp = [(y) for _, y in imp_devt]"
   ]
  },
  {
   "cell_type": "code",
   "execution_count": 47,
   "metadata": {},
   "outputs": [
    {
     "name": "stdout",
     "output_type": "stream",
     "text": [
      "0.5488958990536278\n",
      "  |    0    1 |\n",
      "--+-----------+\n",
      "0 |   <.>   . |\n",
      "1 | 1287<1566>|\n",
      "--+-----------+\n",
      "(row = reference; col = test)\n",
      "\n"
     ]
    }
   ],
   "source": [
    "print(nltk.classify.accuracy(classifier_clean, imp_devt))\n",
    "print(ConfusionMatrix(bayes_preds_imp ,y_devt_imp))"
   ]
  },
  {
   "cell_type": "markdown",
   "metadata": {},
   "source": [
    "It only marginally improves the accuracy. This indicates that trumps tweets does not have a noticeably effect on stocks.\n",
    "Therefore they are not generally suited to base a prediction model on. It is especially worth noticing, that this new model only wants us to hold (UP), because it always expects the value to increase. "
   ]
  },
  {
   "cell_type": "markdown",
   "metadata": {},
   "source": [
    "## Problem 6 {-}"
   ]
  },
  {
   "cell_type": "code",
   "execution_count": 48,
   "metadata": {},
   "outputs": [
    {
     "name": "stdout",
     "output_type": "stream",
     "text": [
      "0.571975916803503\n",
      "  |    0    1 |\n",
      "--+-----------+\n",
      "0 |   <.>   . |\n",
      "1 |  782<1045>|\n",
      "--+-----------+\n",
      "(row = reference; col = test)\n",
      "\n"
     ]
    }
   ],
   "source": [
    "classifier_clean = nltk.NaiveBayesClassifier.train(imp_train)\n",
    "\n",
    "bayes_test_preds = [classifier_clean.classify(i) for i , _ in imp_test]\n",
    "y_test_imp = [(y) for _, y in imp_test]\n",
    "\n",
    "print(nltk.classify.accuracy(classifier_clean, imp_test))\n",
    "print(ConfusionMatrix(bayes_test_preds ,y_test_imp))"
   ]
  },
  {
   "cell_type": "markdown",
   "metadata": {},
   "source": [
    "As seen above, if the test data is run through the \"improved\" model, it still wants to only hold (1). This indicates that it is not able to predict, and just follows the market which generally tends to grow, even though there are ups and downs. The tendency to grow over time is especially evident in an index fund, which the SP500 must be interpreted to represent. (An index fund covering the SP500).\n",
    "\n",
    "A trading strategy will instead be made using the model from 5.4, because it also predict some selling (1). If the model from 5.5 was used, which only tells to hold, it would be very boring, since the solution would just be to cumsum() all the historical returns from the test set period.  "
   ]
  },
  {
   "cell_type": "code",
   "execution_count": 49,
   "metadata": {},
   "outputs": [
    {
     "name": "stdout",
     "output_type": "stream",
     "text": [
      "0.5697865353037767\n",
      "  |    0    1 |\n",
      "--+-----------+\n",
      "0 |  <33>  37 |\n",
      "1 |  749<1008>|\n",
      "--+-----------+\n",
      "(row = reference; col = test)\n",
      "\n"
     ]
    }
   ],
   "source": [
    "classifier = nltk.NaiveBayesClassifier.train(train_tokens)\n",
    "\n",
    "bayes_preds_test = [classifier.classify(i) for i , _ in test_tokens]\n",
    "y_test = [(y) for _, y in test_tokens]\n",
    "\n",
    "print(nltk.classify.accuracy(classifier, test_tokens))\n",
    "print(ConfusionMatrix(bayes_preds_test ,y_test))"
   ]
  },
  {
   "cell_type": "markdown",
   "metadata": {},
   "source": [
    "The predictions are added to the test set, as a column called 'Pred'."
   ]
  },
  {
   "cell_type": "code",
   "execution_count": 50,
   "metadata": {},
   "outputs": [],
   "source": [
    "test_set.insert(2, 'Pred', bayes_preds_test)"
   ]
  },
  {
   "cell_type": "markdown",
   "metadata": {},
   "source": [
    "Two object are made, one which holds the mean returns for each day. The other holds the mean prediction of each day. This is because each day can appear several times, but it is ideal to group them. The returns will remain the same, but there can be predictions that vary on the same day, where one tweet predict 1 (hold) and another predicts 0 (sell)."
   ]
  },
  {
   "cell_type": "code",
   "execution_count": 51,
   "metadata": {},
   "outputs": [],
   "source": [
    "test_returns_grouped = test_set.groupby('date').agg({'SP500_daily_returns':'mean'})\n",
    "test_pred_grouped = test_set.groupby('date').agg({'Pred':'mean'})"
   ]
  },
  {
   "cell_type": "markdown",
   "metadata": {},
   "source": [
    "The objects are put together into the test_returns_grouped, and a filter is put on the predictions. It only keeps those days, where the prediction mean is above 0,5, which is the decision point of whether to hold or sell. "
   ]
  },
  {
   "cell_type": "code",
   "execution_count": 52,
   "metadata": {},
   "outputs": [],
   "source": [
    "test_returns_grouped['Pred'] = test_pred_grouped['Pred']\n",
    "test_returns_grouped = test_returns_grouped[test_returns_grouped['Pred'] > 0.5]"
   ]
  },
  {
   "cell_type": "code",
   "execution_count": 53,
   "metadata": {},
   "outputs": [
    {
     "data": {
      "text/html": [
       "<div>\n",
       "<style scoped>\n",
       "    .dataframe tbody tr th:only-of-type {\n",
       "        vertical-align: middle;\n",
       "    }\n",
       "\n",
       "    .dataframe tbody tr th {\n",
       "        vertical-align: top;\n",
       "    }\n",
       "\n",
       "    .dataframe thead th {\n",
       "        text-align: right;\n",
       "    }\n",
       "</style>\n",
       "<table border=\"1\" class=\"dataframe\">\n",
       "  <thead>\n",
       "    <tr style=\"text-align: right;\">\n",
       "      <th></th>\n",
       "      <th>SP500_daily_returns</th>\n",
       "    </tr>\n",
       "    <tr>\n",
       "      <th>date</th>\n",
       "      <th></th>\n",
       "    </tr>\n",
       "  </thead>\n",
       "  <tbody>\n",
       "    <tr>\n",
       "      <th>2018-02-08</th>\n",
       "      <td>0.1445</td>\n",
       "    </tr>\n",
       "  </tbody>\n",
       "</table>\n",
       "</div>"
      ],
      "text/plain": [
       "            SP500_daily_returns\n",
       "date                           \n",
       "2018-02-08               0.1445"
      ]
     },
     "execution_count": 53,
     "metadata": {},
     "output_type": "execute_result"
    }
   ],
   "source": [
    "overall_returns = test_returns_grouped.cumsum()\n",
    "overall_returns = overall_returns.drop(columns = 'Pred')\n",
    "overall_returns.tail(1)"
   ]
  },
  {
   "cell_type": "markdown",
   "metadata": {},
   "source": [
    "The trading strategy from the model in 5.4 gives a return in the test data period of 14,45%. To compare, the actual returns of that period will be calculated, to see what the return would have been if no adjustments were made (Hold all the time)."
   ]
  },
  {
   "cell_type": "code",
   "execution_count": 54,
   "metadata": {},
   "outputs": [
    {
     "data": {
      "text/html": [
       "<div>\n",
       "<style scoped>\n",
       "    .dataframe tbody tr th:only-of-type {\n",
       "        vertical-align: middle;\n",
       "    }\n",
       "\n",
       "    .dataframe tbody tr th {\n",
       "        vertical-align: top;\n",
       "    }\n",
       "\n",
       "    .dataframe thead th {\n",
       "        text-align: right;\n",
       "    }\n",
       "</style>\n",
       "<table border=\"1\" class=\"dataframe\">\n",
       "  <thead>\n",
       "    <tr style=\"text-align: right;\">\n",
       "      <th></th>\n",
       "      <th>SP500_daily_returns</th>\n",
       "    </tr>\n",
       "    <tr>\n",
       "      <th>date</th>\n",
       "      <th></th>\n",
       "    </tr>\n",
       "  </thead>\n",
       "  <tbody>\n",
       "    <tr>\n",
       "      <th>2018-02-08</th>\n",
       "      <td>0.157931</td>\n",
       "    </tr>\n",
       "  </tbody>\n",
       "</table>\n",
       "</div>"
      ],
      "text/plain": [
       "            SP500_daily_returns\n",
       "date                           \n",
       "2018-02-08             0.157931"
      ]
     },
     "execution_count": 54,
     "metadata": {},
     "output_type": "execute_result"
    }
   ],
   "source": [
    "test_hold_all = test_set.groupby('date').agg({'SP500_daily_returns':'mean'})\n",
    "hold_returns = test_hold_all.cumsum()\n",
    "hold_returns.tail(1)"
   ]
  },
  {
   "cell_type": "markdown",
   "metadata": {},
   "source": [
    "If the SP500 would have been held throughout the period (similarly to what our 5.5 suggested), the return would have been 15,79%. This is higher than the strategy using the 5.4, and the better option is therefore to only hold, and not try to beat the market. \n",
    "\n",
    "It gives the impression that the trump tweets does not have predictive power on the SP500, or at least to such a small extend, that it cannot provide good information for a predictive model."
   ]
  }
 ],
 "metadata": {
  "kernelspec": {
   "display_name": "Python 3",
   "language": "python",
   "name": "python3"
  },
  "language_info": {
   "codemirror_mode": {
    "name": "ipython",
    "version": 3
   },
   "file_extension": ".py",
   "mimetype": "text/x-python",
   "name": "python",
   "nbconvert_exporter": "python",
   "pygments_lexer": "ipython3",
   "version": "3.8.5"
  },
  "toc": {
   "base_numbering": 1,
   "nav_menu": {},
   "number_sections": true,
   "sideBar": true,
   "skip_h1_title": false,
   "title_cell": "Table of Contents",
   "title_sidebar": "Contents",
   "toc_cell": false,
   "toc_position": {},
   "toc_section_display": true,
   "toc_window_display": false
  }
 },
 "nbformat": 4,
 "nbformat_minor": 4
}
